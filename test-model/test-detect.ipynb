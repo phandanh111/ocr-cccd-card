{
 "cells": [
  {
   "cell_type": "code",
   "execution_count": 7,
   "id": "c8425807",
   "metadata": {},
   "outputs": [
    {
     "name": "stdout",
     "output_type": "stream",
     "text": [
      "/Users/macbook/Documents/ocr-cccd-card\n"
     ]
    }
   ],
   "source": [
    "%cd /Users/macbook/Documents/ocr-cccd-card/"
   ]
  },
  {
   "cell_type": "code",
   "execution_count": 8,
   "id": "ffc1a8c7",
   "metadata": {},
   "outputs": [
    {
     "name": "stdout",
     "output_type": "stream",
     "text": [
      "Ultralytics 8.3.196 🚀 Python-3.13.7 torch-2.8.0 CPU (Apple M1 Pro)\n",
      "YOLO11s summary (fused): 100 layers, 9,416,670 parameters, 0 gradients, 21.3 GFLOPs\n",
      "\n",
      "image 1/1 /Users/macbook/Documents/ocr-cccd-card/test-model/img/7739.jpg: 480x640 2 current_places, 1 dob, 1 expire_date, 1 gender, 1 id, 1 name, 1 nationality, 1 origin_place, 79.2ms\n",
      "Speed: 4.7ms preprocess, 79.2ms inference, 5.9ms postprocess per image at shape (1, 3, 480, 640)\n",
      "Results saved to \u001b[1m/Users/macbook/Documents/ocr-cccd-card/test-model/detect/predict\u001b[0m\n",
      "💡 Learn more at https://docs.ultralytics.com/modes/predict\n"
     ]
    }
   ],
   "source": [
    "!yolo detect predict model=weights/models/best-fields-detect.pt source=test-model/img/7739.jpg imgsz=640 project=test-model/detect name=predict exist_ok=True"
   ]
  }
 ],
 "metadata": {
  "kernelspec": {
   "display_name": "myenv",
   "language": "python",
   "name": "python3"
  },
  "language_info": {
   "codemirror_mode": {
    "name": "ipython",
    "version": 3
   },
   "file_extension": ".py",
   "mimetype": "text/x-python",
   "name": "python",
   "nbconvert_exporter": "python",
   "pygments_lexer": "ipython3",
   "version": "3.13.7"
  }
 },
 "nbformat": 4,
 "nbformat_minor": 5
}
