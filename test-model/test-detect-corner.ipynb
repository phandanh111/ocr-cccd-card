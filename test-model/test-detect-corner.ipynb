{
 "cells": [
  {
   "cell_type": "code",
   "execution_count": 5,
   "id": "4966cfdc",
   "metadata": {},
   "outputs": [
    {
     "name": "stdout",
     "output_type": "stream",
     "text": [
      "/Users/macbook/Documents/ocr-cccd-card\n"
     ]
    }
   ],
   "source": [
    "%cd /Users/macbook/Documents/ocr-cccd-card/"
   ]
  },
  {
   "cell_type": "code",
   "execution_count": 6,
   "id": "6989b7f5",
   "metadata": {},
   "outputs": [
    {
     "name": "stdout",
     "output_type": "stream",
     "text": [
      "Ultralytics 8.3.196 🚀 Python-3.13.7 torch-2.8.0 CPU (Apple M1 Pro)\n",
      "YOLO11m summary (fused): 125 layers, 20,033,887 parameters, 0 gradients, 67.7 GFLOPs\n",
      "\n",
      "image 1/1 /Users/macbook/Documents/ocr-cccd-card/test-model/img/7739.jpg: 480x640 1 duoi-phai, 1 duoi-trai, 1 quoc-huy, 1 tren-phai, 1 tren-trai, 129.6ms\n",
      "Speed: 1.7ms preprocess, 129.6ms inference, 0.7ms postprocess per image at shape (1, 3, 480, 640)\n",
      "Results saved to \u001b[1m/Users/macbook/Documents/ocr-cccd-card/test-model/detect/predict-corner\u001b[0m\n",
      "💡 Learn more at https://docs.ultralytics.com/modes/predict\n"
     ]
    }
   ],
   "source": [
    "!yolo detect predict model=weights/models/best-corner-detect.pt source=test-model/img/7739.jpg imgsz=640 project=test-model/detect name=predict-corner exist_ok=True"
   ]
  }
 ],
 "metadata": {
  "kernelspec": {
   "display_name": "myenv",
   "language": "python",
   "name": "python3"
  },
  "language_info": {
   "codemirror_mode": {
    "name": "ipython",
    "version": 3
   },
   "file_extension": ".py",
   "mimetype": "text/x-python",
   "name": "python",
   "nbconvert_exporter": "python",
   "pygments_lexer": "ipython3",
   "version": "3.13.7"
  }
 },
 "nbformat": 4,
 "nbformat_minor": 5
}
